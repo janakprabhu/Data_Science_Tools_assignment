{
 "cells": [
  {
   "cell_type": "markdown",
   "id": "72f275fe-86c6-4383-8f0c-a9477277ffd5",
   "metadata": {},
   "source": [
    "# Data Science Tools and Ecosystem"
   ]
  },
  {
   "cell_type": "markdown",
   "id": "b49ed5f0-7ff9-404a-a873-642054798b6c",
   "metadata": {},
   "source": [
    "In this notebook, Data Science Tools and Ecosystem are summarized.\n",
    "\n",
    "**Objectives:**\n",
    "\n",
    "- List of popular languages for Data Science.\n",
    "- List of popular libraries for Data Science.\n",
    "- List of Data Science tools.\n",
    "- How to carry out arithmetic operations.\n",
    "- How to store variables."
   ]
  },
  {
   "cell_type": "markdown",
   "id": "cfc60188-1710-4b99-be62-81b44ff425d5",
   "metadata": {},
   "source": [
    "Some of the popular languages that Data Scientists use are:\n",
    "\n",
    "1. Python\n",
    "2. R\n",
    "3. SQL\n",
    "4. Scala"
   ]
  },
  {
   "cell_type": "markdown",
   "id": "942b8049-63c0-4e7d-b46e-e19ac9fc15a7",
   "metadata": {},
   "source": [
    "Some of the commonly used libraries used by Data Scientists include:\n",
    "\n",
    "1. SciPy\n",
    "2. NumPy\n",
    "3. Pandas\n",
    "4. ggplot\n",
    "5. dplyr"
   ]
  },
  {
   "cell_type": "markdown",
   "id": "190874d7-2b07-4c23-a5b1-c45318a9cc8e",
   "metadata": {},
   "source": [
    "| Data Science Tools |\n",
    " --------------------\n",
    "| JupyterLab |\n",
    "| Rstudio |\n",
    "| Anaconda |"
   ]
  },
  {
   "cell_type": "markdown",
   "id": "d065f1de-7220-417b-b427-2c96999a2918",
   "metadata": {},
   "source": [
    "### Below are a few examples of evaluating arithmetic expressions in Python."
   ]
  },
  {
   "cell_type": "code",
   "execution_count": 2,
   "id": "63141986-5e07-4e02-8c9b-0648f70b6bc1",
   "metadata": {},
   "outputs": [
    {
     "data": {
      "text/plain": [
       "17"
      ]
     },
     "execution_count": 2,
     "metadata": {},
     "output_type": "execute_result"
    }
   ],
   "source": [
    "(3*4)+5\n",
    "#This a simple arithmetic expression to mutiply then add integers"
   ]
  },
  {
   "cell_type": "code",
   "execution_count": 3,
   "id": "3a5c97f8-a3c8-4593-a49d-91fdc977d7c6",
   "metadata": {},
   "outputs": [],
   "source": [
    "min = 200\n",
    "hours = min/60\n",
    "#This will convert 200 minutes to hours by diving by 60"
   ]
  },
  {
   "cell_type": "markdown",
   "id": "37cd0f1b-9ae0-48f5-844f-4a1600b097f8",
   "metadata": {},
   "source": [
    "## Author\n",
    "Janak Prabhu"
   ]
  },
  {
   "cell_type": "code",
   "execution_count": null,
   "id": "e97b4914-04cc-452a-9605-7485b5fa7ae8",
   "metadata": {},
   "outputs": [],
   "source": []
  }
 ],
 "metadata": {
  "kernelspec": {
   "display_name": "Python 3 (ipykernel)",
   "language": "python",
   "name": "python3"
  },
  "language_info": {
   "codemirror_mode": {
    "name": "ipython",
    "version": 3
   },
   "file_extension": ".py",
   "mimetype": "text/x-python",
   "name": "python",
   "nbconvert_exporter": "python",
   "pygments_lexer": "ipython3",
   "version": "3.11.5"
  }
 },
 "nbformat": 4,
 "nbformat_minor": 5
}
